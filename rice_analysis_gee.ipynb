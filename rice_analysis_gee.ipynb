{
  "nbformat": 4,
  "nbformat_minor": 0,
  "metadata": {
    "colab": {
      "provenance": [],
      "private_outputs": true,
      "mount_file_id": "185oLrf578bWP8yIa8-Aa-Aut0vnl2kJH",
      "authorship_tag": "ABX9TyPkp9xE92pFfLhQNsvFUT8W",
      "include_colab_link": true
    },
    "kernelspec": {
      "name": "python3",
      "display_name": "Python 3"
    },
    "language_info": {
      "name": "python"
    },
    "gpuClass": "standard"
  },
  "cells": [
    {
      "cell_type": "markdown",
      "metadata": {
        "id": "view-in-github",
        "colab_type": "text"
      },
      "source": [
        "<a href=\"https://colab.research.google.com/github/jan94z/rice_analysis_gee/blob/main/rice_analysis_gee.ipynb\" target=\"_parent\"><img src=\"https://colab.research.google.com/assets/colab-badge.svg\" alt=\"Open In Colab\"/></a>"
      ]
    },
    {
      "cell_type": "markdown",
      "source": [
        "# Analysis of a rice field in the Valencian Community using Google Earth Engine's Python API\n",
        "\n",
        "Within a remote sensing course at the _Polytechnic University of Valencia_ we studied analyzing crops by using different GIS tools, such as _EO Browser_, _SNAP_, _QGIS_ and _Google Earth Engine_. \n",
        "\n",
        "The task of our final project was to analyze a given field of rice, located in the _Albufera Park_, in the course of one growing period, using one or more of these applications. The park is located just south of the city of Valencia and represents one of the most important rice growing regions of Europe.\n",
        "\n",
        "To solve the task, I chose to use Google Earth Engine. The original solution was done in the JavaScript-based _Code Editor_. However, it left me curious about how the Python API works, which is the reason for this project here.\n",
        "\n",
        "Everything was carried out in _Google Colab_. \n",
        "\n",
        "If you are interested in the rice cultivation cycle of the Valencian Community: https://doi.org/10.3390/rs13204095 ."
      ],
      "metadata": {
        "id": "x-9I19ROtNWb"
      }
    },
    {
      "cell_type": "code",
      "source": [
        "# install missing packages\n",
        "!pip install geetools\n",
        "!pip install geemap"
      ],
      "metadata": {
        "id": "C1NbYMQnVnKp"
      },
      "execution_count": null,
      "outputs": []
    },
    {
      "cell_type": "code",
      "source": [
        "import ee\n",
        "import geetools\n",
        "import geemap\n",
        "import numpy as np\n",
        "import pandas as pd\n",
        "import matplotlib.pyplot as plt\n",
        "from mpl_toolkits import mplot3d"
      ],
      "metadata": {
        "id": "qICnlBvtvnDJ"
      },
      "execution_count": null,
      "outputs": []
    },
    {
      "cell_type": "code",
      "source": [
        "# Authenticate the access to Earth Engine\n",
        "ee.Authenticate()\n",
        "ee.Initialize()"
      ],
      "metadata": {
        "id": "f97a8_fzeI18"
      },
      "execution_count": null,
      "outputs": []
    },
    {
      "cell_type": "code",
      "source": [
        "# coordinates of the field of rice\n",
        "field = ee.Geometry.Polygon(\n",
        "        [[[-0.3832281488739442, 39.359508187098584],\n",
        "          [-0.38298406785358896, 39.359484337985016],\n",
        "          [-0.3825656432472657, 39.35943560281458],\n",
        "          [-0.38235563488590474, 39.35943015163163],\n",
        "          [-0.38222134354513715, 39.35980016770354],\n",
        "          [-0.38208505246087876, 39.36016793089962],\n",
        "          [-0.38194884217037206, 39.36053460298375],\n",
        "          [-0.3818455771232987, 39.360818740618186],\n",
        "          [-0.381762428643837, 39.36104167340761],\n",
        "          [-0.38170744335903173, 39.36119617059777],\n",
        "          [-0.3817181721950913, 39.361209650202184],\n",
        "          [-0.381738288762703, 39.36122935115779],\n",
        "          [-0.3817599771672153, 39.36123246183448],\n",
        "          [-0.38273361903962133, 39.3614719835239],\n",
        "          [-0.382753735607233, 39.361411489438844],\n",
        "          [-0.3829119859391117, 39.36098428963761],\n",
        "          [-0.383078282898035, 39.360611006119],\n",
        "          [-0.38321239334877966, 39.36026156946189],\n",
        "          [-0.3833532093220615, 39.359885360156824],\n",
        "          [-0.383394229951195, 39.3597580197425],\n",
        "          [-0.38345457965403007, 39.35953508285621]]])\n",
        "\n",
        "# coordinates of wider area for displaying purposes\n",
        "area = ee.Geometry.Polygon(\n",
        "        [[[-0.39466116033436416, 39.3667866079925],\n",
        "          [-0.39466116033436416, 39.353846023573496],\n",
        "          [-0.37200185857655166, 39.353846023573496],\n",
        "          [-0.37200185857655166, 39.3667866079925]]], None, False)"
      ],
      "metadata": {
        "id": "652MDthDwlFF"
      },
      "execution_count": null,
      "outputs": []
    },
    {
      "cell_type": "code",
      "source": [
        "# clip the collection for faster processing\n",
        "def clip_collection(roi):\n",
        "  def clp(image):\n",
        "    return image.clip(roi)\n",
        "  return clp\n",
        "\n",
        "# add a simplified date format for labeling\n",
        "def add_date(image):\n",
        "  return image.set('date', image.date().format('MM-dd'))\n",
        "\n",
        "# calculate the NDVI\n",
        "def add_ndvi(image):\n",
        "  ndvi = image.normalizedDifference(['B8', 'B4']).rename('NDVI')\n",
        "  return image.addBands(ndvi)\n",
        "\n",
        "# calculate the mean of all bands for our field\n",
        "def calc_mean(roi):\n",
        "  def red(image):\n",
        "   stats = image.reduceRegion(ee.Reducer.mean(), roi, 10)\n",
        "   return image.set('stats', stats)\n",
        "  return red\n",
        "\n",
        "# get Sentinel-2 data\n",
        "sentinel2 = ee.ImageCollection('COPERNICUS/S2_SR_HARMONIZED')\n",
        "\n",
        "# define boundaries\n",
        "start = '2022-05-01' \n",
        "end = '2022-11-30'\n",
        "bands = ['B2', 'B3', 'B4', 'B8']\n",
        "\n",
        "# filter the complete Sentinel-2 collection execute calculations\n",
        "collection = ee.ImageCollection((sentinel2) \n",
        ".filterBounds(field)\n",
        ".filterMetadata('MGRS_TILE', 'equals' ,'30SYJ')\n",
        ".filterDate(start, end) \n",
        ".select(bands)\n",
        ".map(clip_collection(area))\n",
        ".map(add_date)\n",
        ".map(add_ndvi)\n",
        ".map(calc_mean(field))\n",
        ".sort('date')\n",
        ")\n",
        "\n",
        "collection"
      ],
      "metadata": {
        "id": "s7Bs54-zvQU_"
      },
      "execution_count": null,
      "outputs": []
    },
    {
      "cell_type": "code",
      "source": [
        "# display the region, the rice field, and the chosen wider area\n",
        "Map = geemap.Map()\n",
        "visparams = {'min': 0, 'max': 5000, 'gamma': 1.2, 'bands': ['B4', 'B3', 'B2']}\n",
        "\n",
        "some_image = ee.Image('COPERNICUS/S2_SR_HARMONIZED/20220510T104621_20220510T104859_T30SYJ')\n",
        "Map.addLayer(some_image, visparams, 'Image')\n",
        "Map.addLayer(area, {'color': 'efefef', 'opacity': 0.3}, 'Region of interest')\n",
        "Map.addLayer(field, {'color': 'c5000a'}, 'Rice field')\n",
        "Map.centerObject(area, 15)\n",
        "Map"
      ],
      "metadata": {
        "id": "gZShvn_klyV8"
      },
      "execution_count": null,
      "outputs": []
    },
    {
      "cell_type": "code",
      "source": [
        "# display all the available images to discard images where the field is covered by clouds or cloud shadows\n",
        "image_list = collection.toList(100)\n",
        "# the images will be displayed on several maps, as geemap does not handle so many images on one map that well \n",
        "def list_to_map(colAsList, roi, idx1, idx2, visparams):\n",
        "  Map = geemap.Map()\n",
        "  Map.centerObject(roi, 15)\n",
        "  for idx in range(idx1, idx2):\n",
        "    img = ee.Image(colAsList.get(idx))\n",
        "    Map.addLayer(img, visparams, str(idx), 0)\n",
        "  return Map"
      ],
      "metadata": {
        "id": "_X0el3sIWKnv"
      },
      "execution_count": null,
      "outputs": []
    },
    {
      "cell_type": "code",
      "source": [
        "Map1 = list_to_map(image_list, area, 0, 10, visparams)\n",
        "Map1"
      ],
      "metadata": {
        "id": "tuoVeJxugoeC"
      },
      "execution_count": null,
      "outputs": []
    },
    {
      "cell_type": "code",
      "source": [
        "Map2 = list_to_map(image_list, area, 10, 20, visparams)\n",
        "Map2"
      ],
      "metadata": {
        "id": "w2RDlYzjgrG-"
      },
      "execution_count": null,
      "outputs": []
    },
    {
      "cell_type": "code",
      "source": [
        "Map3 = list_to_map(image_list, area, 20, 31, visparams)\n",
        "Map3"
      ],
      "metadata": {
        "id": "5SW74YfBgs8t"
      },
      "execution_count": null,
      "outputs": []
    },
    {
      "cell_type": "code",
      "source": [
        "Map4 = list_to_map(image_list, area, 31, 42, visparams)\n",
        "Map4"
      ],
      "metadata": {
        "id": "hvfA_gkegum2"
      },
      "execution_count": null,
      "outputs": []
    },
    {
      "cell_type": "code",
      "source": [
        "# the images to dicard have been chosen manually\n",
        "images_to_discard = [8, 20, 26, 27, 28, 31, 33, 38, 39, 40, 41]\n",
        "\n",
        "# convert the data that we want to use into a pandas dataframe\n",
        "dates = collection.aggregate_array('date')\n",
        "stats = collection.aggregate_array('stats')\n",
        "data = ee.FeatureCollection([ee.Feature(None, {'date': dates, 'stats': stats})])\n",
        "df = geemap.ee_to_pandas(data)\n",
        "for s, d in zip(df['stats'], df['date']):\n",
        "  new_df = pd.DataFrame(s)\n",
        "  new_df['date'] = d\n",
        "\n",
        "# reflectance values in GEE are in a range from 0 to 10000 by default -> change it to a values between 0 and 1\n",
        "new_df[['B2', 'B3', 'B4', 'B8']] /= 10000\n",
        "\n",
        "# instead of dropping the images I prefer to set the values to NaN, so that we can later display the missing dates in the graphs\n",
        "new_df.loc[images_to_discard, ['B2', 'B3', 'B4', 'B8', 'NDVI']] = None\n",
        "display(new_df)"
      ],
      "metadata": {
        "id": "ISJjUv2LfsLS"
      },
      "execution_count": null,
      "outputs": []
    },
    {
      "cell_type": "code",
      "source": [
        "def connect_missing_points(x1, y1, x2, y2, **kwargs):\n",
        "  x = [x1, x2]\n",
        "  y = [y1, y2]\n",
        "  plt.plot(x, y, **kwargs)"
      ],
      "metadata": {
        "id": "qrthMmeQygcs"
      },
      "execution_count": null,
      "outputs": []
    },
    {
      "cell_type": "code",
      "source": [
        "plt.figure(figsize=(10,10))\n",
        "plt.plot(new_df['date'], new_df['NDVI'], color='red')\n",
        "connect_missing_points(new_df.loc[7, 'date'], new_df.loc[7, 'NDVI'], new_df.loc[9, 'date'], new_df.loc[9, 'NDVI'], color='red', linestyle='--')\n",
        "connect_missing_points(new_df.loc[19, 'date'], new_df.loc[19, 'NDVI'], new_df.loc[21, 'date'], new_df.loc[21, 'NDVI'], color='red', linestyle='--')\n",
        "connect_missing_points(new_df.loc[25, 'date'], new_df.loc[25, 'NDVI'], new_df.loc[29, 'date'], new_df.loc[29, 'NDVI'], color='red', linestyle='--')\n",
        "connect_missing_points(new_df.loc[30, 'date'], new_df.loc[30, 'NDVI'], new_df.loc[34, 'date'], new_df.loc[34, 'NDVI'], color='red', linestyle='--')\n",
        "plt.plot()\n",
        "plt.xlabel('Date', fontsize=13, labelpad=8)\n",
        "plt.xticks(rotation=90)\n",
        "plt.ylabel('NDVI', labelpad=8, fontsize=13)\n",
        "plt.yticks([x/10 for x in range(1, 11)])\n",
        "plt.grid()\n",
        "plt.show()"
      ],
      "metadata": {
        "id": "QPHJN1Ozf_6-"
      },
      "execution_count": null,
      "outputs": []
    },
    {
      "cell_type": "code",
      "source": [
        "plt.figure(figsize=(10,10))\n",
        "plt.plot(new_df['date'], new_df['B4'], label='RED', color='red')\n",
        "plt.plot(new_df['date'], new_df['B8'], label='NIR', color='black')\n",
        "connect_missing_points(new_df.loc[7, 'date'], new_df.loc[7, 'B4'], new_df.loc[9, 'date'], new_df.loc[9, 'B4'], color='red', linestyle='--')\n",
        "connect_missing_points(new_df.loc[19, 'date'], new_df.loc[19, 'B4'], new_df.loc[21, 'date'], new_df.loc[21, 'B4'], color='red', linestyle='--')\n",
        "connect_missing_points(new_df.loc[25, 'date'], new_df.loc[25, 'B4'], new_df.loc[29, 'date'], new_df.loc[29, 'B4'], color='red', linestyle='--')\n",
        "connect_missing_points(new_df.loc[30, 'date'], new_df.loc[30, 'B4'], new_df.loc[34, 'date'], new_df.loc[34, 'B4'], color='red', linestyle='--')\n",
        "connect_missing_points(new_df.loc[7, 'date'], new_df.loc[7, 'B8'], new_df.loc[9, 'date'], new_df.loc[9, 'B8'], color='black', linestyle='--')\n",
        "connect_missing_points(new_df.loc[19, 'date'], new_df.loc[19, 'B8'], new_df.loc[21, 'date'], new_df.loc[21, 'B8'], color='black', linestyle='--')\n",
        "connect_missing_points(new_df.loc[25, 'date'], new_df.loc[25, 'B8'], new_df.loc[29, 'date'], new_df.loc[29, 'B8'], color='black', linestyle='--')\n",
        "connect_missing_points(new_df.loc[30, 'date'], new_df.loc[30, 'B8'], new_df.loc[34, 'date'], new_df.loc[34, 'B8'], color='black', linestyle='--')\n",
        "plt.xlabel('Date', labelpad=8, fontsize=13)\n",
        "plt.xticks(rotation=90)\n",
        "plt.ylabel('Reflectance', labelpad=8, fontsize=13)\n",
        "plt.legend()\n",
        "plt.grid()\n",
        "plt.show()"
      ],
      "metadata": {
        "id": "TIjdLAdZgvAL"
      },
      "execution_count": null,
      "outputs": []
    },
    {
      "cell_type": "code",
      "source": [
        "# randomly assign 30 points within the field for further analysis\n",
        "points = ee.FeatureCollection.randomPoints(field, 30, 1)\n",
        "size = collection.size().getInfo()\n",
        "\n",
        "first = True\n",
        "for idx in range(size):\n",
        "  if idx not in images_to_discard:\n",
        "    image = ee.Image(image_list.get(idx))\n",
        "    ft = image.sampleRegions(points, scale=10) # get the band values of the 30 sample points\n",
        "    point_df = geemap.ee_to_pandas(ft)\n",
        "    if first:\n",
        "      b3points = pd.DataFrame({new_df.loc[idx, 'date']: point_df['B3']})\n",
        "      b4points = pd.DataFrame({new_df.loc[idx, 'date']: point_df['B4']})\n",
        "      b8points = pd.DataFrame({new_df.loc[idx, 'date']: point_df['B8']})\n",
        "      first = False\n",
        "    else:\n",
        "      b3points[new_df.loc[idx, 'date']] = point_df['B3']\n",
        "      b4points[new_df.loc[idx, 'date']] = point_df['B4']\n",
        "      b8points[new_df.loc[idx, 'date']] = point_df['B8']\n",
        "\n",
        "b3points /= 10000\n",
        "b4points /= 10000\n",
        "b8points /= 10000"
      ],
      "metadata": {
        "id": "dxgqbKfvAEyO"
      },
      "execution_count": null,
      "outputs": []
    },
    {
      "cell_type": "code",
      "source": [
        "plt.figure(figsize=(12,12))\n",
        "\n",
        "for date in b4points.iloc[:,:10]:\n",
        "  plt.scatter(b8points[date], b4points[date], label=date, marker=\"^\", linewidths=1)\n",
        "for date in b4points.iloc[:,10:20]:\n",
        "  plt.scatter(b8points[date], b4points[date], label=date, marker=\".\", linewidths=1)\n",
        "for date in b4points.iloc[:,20:30]:\n",
        "  plt.scatter(b8points[date], b4points[date], label=date, marker=\"x\", linewidths=1)\n",
        "for date in b4points.iloc[:,30:]:\n",
        "  plt.scatter(b8points[date], b4points[date], label=date, marker=\"*\", linewidths=1)\n",
        "\n",
        "plt.ylabel('RED', labelpad=8, fontsize=13)\n",
        "plt.xlabel('NIR', labelpad=8, fontsize=13)\n",
        "plt.legend(loc ='center right', borderaxespad=-7, markerscale=1.5)\n",
        "plt.show()"
      ],
      "metadata": {
        "id": "zwnMsgV-J11P"
      },
      "execution_count": null,
      "outputs": []
    },
    {
      "cell_type": "code",
      "source": [
        "fig = plt.figure(figsize = (13, 10))\n",
        "ax = plt.axes(projection =\"3d\")\n",
        "ax.grid(visible = True, color ='grey',\n",
        "        linestyle ='-.', linewidth = 0.3,\n",
        "        alpha = 0.2)\n",
        "\n",
        "for date in b4points.iloc[:,:10]:\n",
        "  ax.scatter3D(b8points[date], b4points[date], b3points[date], label=date, marker=\"^\", linewidths=1.2)\n",
        "for date in b4points.iloc[:,10:20]:\n",
        "  ax.scatter3D(b8points[date], b4points[date], b3points[date], label=date, marker=\".\", linewidths=1.2)\n",
        "for date in b4points.iloc[:,20:30]:\n",
        "  ax.scatter3D(b8points[date], b4points[date], b3points[date], label=date, marker=\"x\", linewidths=1.2)\n",
        "for date in b4points.iloc[:,30:]:\n",
        "  ax.scatter3D(b8points[date], b4points[date], b3points[date], label=date, marker=\"*\", linewidths=1.2)\n",
        "\n",
        "ax.set_xlabel('NIR')\n",
        "ax.set_ylabel('RED')\n",
        "ax.set_zlabel('GREEN')\n",
        "plt.legend(loc ='center right', borderaxespad=-10, markerscale=1.5)\n",
        "plt.show()"
      ],
      "metadata": {
        "id": "Ye8A86OMMfu2"
      },
      "execution_count": null,
      "outputs": []
    }
  ]
}